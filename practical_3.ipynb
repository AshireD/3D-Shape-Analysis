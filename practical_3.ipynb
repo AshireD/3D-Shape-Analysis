{
 "cells": [
  {
   "cell_type": "markdown",
   "metadata": {},
   "source": [
    "Before you turn this problem in, make sure everything runs as expected. First, **restart the kernel** (in the menubar, select Kernel$\\rightarrow$Restart) and then **run all cells** (in the menubar, select Cell$\\rightarrow$Run All).\n",
    "\n",
    "Make sure you fill in any place that says `YOUR CODE HERE` or \"YOUR ANSWER HERE\", as well as your name and collaborators below:"
   ]
  },
  {
   "cell_type": "code",
   "execution_count": 37,
   "metadata": {},
   "outputs": [],
   "source": [
    "NAME = \"\"\n",
    "COLLABORATORS = \"\""
   ]
  },
  {
   "cell_type": "markdown",
   "metadata": {},
   "source": [
    "---"
   ]
  },
  {
   "cell_type": "markdown",
   "metadata": {
    "nbgrader": {
     "grade": false,
     "grade_id": "cell-04429c6213cf7e2d",
     "locked": true,
     "schema_version": 3,
     "solution": false,
     "task": false
    }
   },
   "source": [
    "# Shape Descriptors\n",
    "In this notebook we will implement the Laplace Beltrami operator and use it to compute the mean curvature and normals as well as the heat kernel signature for an example mesh."
   ]
  },
  {
   "cell_type": "code",
   "execution_count": 38,
   "metadata": {
    "nbgrader": {
     "grade": false,
     "grade_id": "cell-c0df808dee64e4a4",
     "locked": true,
     "schema_version": 3,
     "solution": false,
     "task": false
    }
   },
   "outputs": [
    {
     "ename": "ModuleNotFoundError",
     "evalue": "No module named 'k3d'",
     "output_type": "error",
     "traceback": [
      "\u001b[1;31m---------------------------------------------------------------------------\u001b[0m",
      "\u001b[1;31mModuleNotFoundError\u001b[0m                       Traceback (most recent call last)",
      "Cell \u001b[1;32mIn[38], line 5\u001b[0m\n\u001b[0;32m      3\u001b[0m \u001b[38;5;28;01mfrom\u001b[39;00m \u001b[38;5;21;01mscipy\u001b[39;00m\u001b[38;5;21;01m.\u001b[39;00m\u001b[38;5;21;01msparse\u001b[39;00m \u001b[38;5;28;01mimport\u001b[39;00m csr_matrix, diags\n\u001b[0;32m      4\u001b[0m \u001b[38;5;28;01mfrom\u001b[39;00m \u001b[38;5;21;01mscipy\u001b[39;00m\u001b[38;5;21;01m.\u001b[39;00m\u001b[38;5;21;01msparse\u001b[39;00m\u001b[38;5;21;01m.\u001b[39;00m\u001b[38;5;21;01mlinalg\u001b[39;00m \u001b[38;5;28;01mimport\u001b[39;00m eigsh\n\u001b[1;32m----> 5\u001b[0m \u001b[38;5;28;01mimport\u001b[39;00m \u001b[38;5;21;01mk3d\u001b[39;00m\n",
      "\u001b[1;31mModuleNotFoundError\u001b[0m: No module named 'k3d'"
     ]
    }
   ],
   "source": [
    "import numpy as np\n",
    "import openmesh as om\n",
    "from scipy.sparse import csr_matrix, diags\n",
    "from scipy.sparse.linalg import eigsh\n",
    "import k3d"
   ]
  },
  {
   "cell_type": "code",
   "execution_count": 39,
   "metadata": {
    "nbgrader": {
     "grade": false,
     "grade_id": "cell-7f270e90dd0cbaeb",
     "locked": true,
     "schema_version": 3,
     "solution": false,
     "task": false
    }
   },
   "outputs": [],
   "source": [
    "mesh = om.read_trimesh(\"spot_triangulated.obj\")"
   ]
  },
  {
   "cell_type": "markdown",
   "metadata": {
    "nbgrader": {
     "grade": false,
     "grade_id": "cell-6dc3d8f6fdfe1651",
     "locked": true,
     "schema_version": 3,
     "solution": false,
     "task": false
    }
   },
   "source": [
    "## Laplace-Beltrami\n",
    "In this task you are going to implement the Laplace-Beltrami operator.\n",
    "In the lecture we have described this operator as a sum, however in practice it usually makes more sense to write it as a matrix. This matrix can then e.g. be multiplied with the vertex positions to obtain the Discrete Mean Curvature Normal operator.\n",
    "This matrix can be split into two parts: \n",
    "- The mass matrix contains the vertex area\n",
    "- The (weak) Laplace matrix contains the cotangent weights\n",
    "\n",
    "In the following tasks you will build these two matrices.\n",
    "We have implemented two helper functions for you:\n",
    "- `triangle_area` computes the area of a triangle, given its three vertex positions\n",
    "- `cotangent_weight` computes the cotangent weight for a given edge. (In the lecture slides you see a factor of 1/2 before the sum, this factor is part of the cotangent weights)\n",
    "\n",
    "In previous exercises you have seen how to use the functions `diags` and `csr_matrix` to construct sparse matrices.\\\n",
    "In the introduction we introduced you to openmesh and have shown you how to obtain vertex coordinates, face-vertex indices and iterate over vertices or a vertex neigbourhood. Similarly you can iterate over faces, with `mesh.faces()` or obtain the faces, neighbouring a vertex with `mesh.vf(v)`\n",
    "The id of a face is obtained from a facee handle with `idx()` (similarly as for vertices).\\\n",
    "Furthermore, for this exercise you will need to get the two vertices of an edge. \n",
    "These can be obtained with `mesh.to_vertex_handle(mesh.halfedge_handle(eh,0))`. Replace 0 with 1 to obtain the other vertex."
   ]
  },
  {
   "cell_type": "code",
   "execution_count": 40,
   "metadata": {
    "nbgrader": {
     "grade": false,
     "grade_id": "cell-499c895ba211ceea",
     "locked": false,
     "schema_version": 3,
     "solution": true,
     "task": false
    }
   },
   "outputs": [],
   "source": [
    "# helper function: given triangle vertices, compute area\n",
    "def triangle_area(a,b,c):\n",
    "    return np.linalg.norm(np.cross(b-a,c-a))/2\n",
    "    \n",
    "def mass_matrix(mesh):\n",
    "    ### YOUR CODE HERE\n",
    "\n",
    "    M = np.zeros(mesh.n_vertices())\n",
    "    \n",
    "    points = mesh.points()\n",
    "\n",
    "    for face in mesh.faces():\n",
    "        i_fvs = mesh.fv(face)\n",
    "        v1 = next(i_fvs).idx()\n",
    "        v2 = next(i_fvs).idx()\n",
    "        v3 = next(i_fvs).idx()\n",
    "        m = triangle_area(points[v1], points[v2], points[v3]) / 3\n",
    "        M[v1] += m\n",
    "        M[v2] += m\n",
    "        M[v3] += m\n",
    "\n",
    "    return diags(M)\n",
    "    \n",
    "\n",
    "# helper function: given edge, compute cotangent weight\n",
    "def cotangent_weight(mesh, eh):\n",
    "    v0 = mesh.point(mesh.to_vertex_handle(mesh.halfedge_handle(eh,0)))\n",
    "    v1 = mesh.point(mesh.to_vertex_handle(mesh.halfedge_handle(eh,1)))\n",
    "    weight = 0\n",
    "    for i in range(2):\n",
    "        heh = mesh.halfedge_handle(eh,i)\n",
    "        opp_v = mesh.point(mesh.to_vertex_handle(mesh.next_halfedge_handle(heh)))\n",
    "        dir1 = opp_v - v0\n",
    "        dir2 = opp_v - v1\n",
    "        weight += np.dot(dir1,dir2) / np.linalg.norm(np.cross(dir1,dir2))\n",
    "    return weight / 2\n",
    "\n",
    "def laplace_matrix(mesh):\n",
    "    rows, cols, data = [], [], []\n",
    "\n",
    "    for vertex in mesh.vertices():\n",
    "        sum_weights = 0\n",
    "        for he in mesh.ve(vertex):\n",
    "            \n",
    "            v0 = mesh.to_vertex_handle(mesh.halfedge_handle(he,0)).idx()\n",
    "            v1 = mesh.to_vertex_handle(mesh.halfedge_handle(he,1)).idx()\n",
    "            \n",
    "            if(v0 != vertex.idx()):\n",
    "                v1 = v0\n",
    "                v0 = vertex.idx()\n",
    "\n",
    "            w = cotangent_weight(mesh, he)\n",
    "            rows.append(v0)\n",
    "            cols.append(v1)\n",
    "            data.append(w)\n",
    "            \n",
    "            sum_weights -= w\n",
    "\n",
    "        rows.append(vertex.idx())\n",
    "        cols.append(vertex.idx())\n",
    "        data.append(sum_weights)\n",
    "\n",
    "    return csr_matrix((data, (rows, cols)))\n",
    "            \n",
    "\n",
    "def invert_diagonal_matrix(D):\n",
    "    d = D.diagonal()\n",
    "    zero_mask = d == 0\n",
    "    return diags(np.where(zero_mask, 1, 1/d))\n",
    "\n"
   ]
  },
  {
   "cell_type": "code",
   "execution_count": 41,
   "metadata": {
    "nbgrader": {
     "grade": false,
     "grade_id": "cell-30ac888efe6ce45a",
     "locked": true,
     "schema_version": 3,
     "solution": false,
     "task": false
    }
   },
   "outputs": [],
   "source": [
    "M = mass_matrix(mesh)\n",
    "M_inv = invert_diagonal_matrix(M)\n",
    "L = laplace_matrix(mesh)\n",
    "\n",
    "hn = M_inv.dot(L.dot(mesh.points()))\n",
    "h = np.linalg.norm(hn, axis=1)\n",
    "normals = hn / h[:,None]"
   ]
  },
  {
   "cell_type": "markdown",
   "metadata": {
    "nbgrader": {
     "grade": false,
     "grade_id": "cell-091f4d29977528a5",
     "locked": true,
     "schema_version": 3,
     "solution": false,
     "task": false
    }
   },
   "source": [
    "In the following plot you should see curved areas colored in yellow and flat areas colored in purple.\n",
    "Furthermore the normals should be orthogonal to the surface and point outwards in convex areas."
   ]
  },
  {
   "cell_type": "code",
   "execution_count": null,
   "metadata": {
    "nbgrader": {
     "grade": false,
     "grade_id": "cell-6dd4c305506a4836",
     "locked": true,
     "schema_version": 3,
     "solution": false,
     "task": false
    }
   },
   "outputs": [],
   "source": [
    "plot = k3d.plot()\n",
    "plot += k3d.mesh(mesh.points(), mesh.fv_indices(), attribute=h/2, \n",
    "                 color_map=k3d.colormaps.matplotlib_color_maps.viridis,\n",
    "                color_range=(0,10))\n",
    "plot += k3d.vectors(mesh.points(), normals/10, line_width=0.0001, use_head=False)\n",
    "plot"
   ]
  },
  {
   "cell_type": "code",
   "execution_count": 42,
   "metadata": {
    "nbgrader": {
     "grade": true,
     "grade_id": "cell-b2a307f64463697f",
     "locked": true,
     "points": 1,
     "schema_version": 3,
     "solution": false,
     "task": false
    }
   },
   "outputs": [],
   "source": [
    "np.testing.assert_array_almost_equal(M.todense()[range(5),range(5)], \n",
    "                                     [[0.00478942, 0.00284357, 0.00094711, 0.0006429, 0.00267439]], decimal=8)"
   ]
  },
  {
   "cell_type": "code",
   "execution_count": 43,
   "metadata": {
    "nbgrader": {
     "grade": true,
     "grade_id": "cell-3c167fb61822eadf",
     "locked": true,
     "points": 2,
     "schema_version": 3,
     "solution": false,
     "task": false
    }
   },
   "outputs": [],
   "source": [
    "np.testing.assert_approx_equal(L.todense()[0,0], -4.230992097869423, significant=8)\n",
    "np.testing.assert_approx_equal(L.todense()[0,812], 1.4068019986623206, significant=8)\n",
    "np.testing.assert_approx_equal(L.todense()[729,2923], 1.0595635160548063, significant=8)"
   ]
  },
  {
   "cell_type": "markdown",
   "metadata": {
    "nbgrader": {
     "grade": false,
     "grade_id": "cell-cdaccda299288b5a",
     "locked": true,
     "schema_version": 3,
     "solution": false,
     "task": false
    }
   },
   "source": [
    "## Heat Kernel Signature\n",
    "In this task you will use the previously defined Laplace-Beltrami operator to compute the Heat Kernel Signature.\n",
    "You can compute the eigenvalues and eigenvectors using scipy with the function  call `eigsh(L, n_eig, M, sigma=0)`.\n",
    "Besides the previously computed (weak) Laplacian and mass matrix, the function `heat_kernel_signature(L, M, n_eig, t)` gets as input the number of eigenvalues we will use, and the time step.\n",
    "You can check your result by trying out several values for the time step"
   ]
  },
  {
   "cell_type": "code",
   "execution_count": 44,
   "metadata": {
    "nbgrader": {
     "grade": false,
     "grade_id": "cell-be5b39ae83242cbc",
     "locked": false,
     "schema_version": 3,
     "solution": true,
     "task": false
    }
   },
   "outputs": [],
   "source": [
    "def heat_kernel_signature(L, M, n_eig, t):\n",
    "    ### YOUR CODE HERE\n",
    "    eigen_values, eigen_vectors = eigsh(L, n_eig, M, sigma=0)\n",
    "    k = np.sum(np.exp(eigen_values * t) * (eigen_vectors * eigen_vectors), axis=1)\n",
    "    return k"
   ]
  },
  {
   "cell_type": "code",
   "execution_count": 45,
   "metadata": {},
   "outputs": [],
   "source": [
    "vals = heat_kernel_signature(L,M,100,1e-3)"
   ]
  },
  {
   "cell_type": "code",
   "execution_count": null,
   "metadata": {
    "nbgrader": {
     "grade": false,
     "grade_id": "cell-597c5ad8cef3cb3b",
     "locked": true,
     "schema_version": 3,
     "solution": false,
     "task": false
    }
   },
   "outputs": [],
   "source": [
    "plot = k3d.plot()\n",
    "plot += k3d.mesh(mesh.points(), mesh.fv_indices(), attribute=vals, \n",
    "                 color_map=k3d.colormaps.matplotlib_color_maps.viridis)\n",
    "plot"
   ]
  },
  {
   "cell_type": "code",
   "execution_count": 46,
   "metadata": {
    "nbgrader": {
     "grade": true,
     "grade_id": "cell-6508949df589850c",
     "locked": true,
     "points": 1,
     "schema_version": 3,
     "solution": false,
     "task": false
    }
   },
   "outputs": [],
   "source": [
    "vals = heat_kernel_signature(L,M,100,1e-3)\n",
    "np.testing.assert_approx_equal(vals.min(), 9.59263418573553, significant=8)\n",
    "np.testing.assert_approx_equal(vals.max(), 30.681926901103605, significant=8)"
   ]
  },
  {
   "cell_type": "code",
   "execution_count": null,
   "metadata": {},
   "outputs": [],
   "source": []
  }
 ],
 "metadata": {
  "celltoolbar": "Create Assignment",
  "kernelspec": {
   "display_name": "Python 3 (ipykernel)",
   "language": "python",
   "name": "python3"
  },
  "language_info": {
   "codemirror_mode": {
    "name": "ipython",
    "version": 3
   },
   "file_extension": ".py",
   "mimetype": "text/x-python",
   "name": "python",
   "nbconvert_exporter": "python",
   "pygments_lexer": "ipython3",
   "version": "3.9.16"
  }
 },
 "nbformat": 4,
 "nbformat_minor": 4
}
