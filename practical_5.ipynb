{
 "cells": [
  {
   "cell_type": "markdown",
   "metadata": {},
   "source": [
    "Before you turn this problem in, make sure everything runs as expected. First, **restart the kernel** (in the menubar, select Kernel$\\rightarrow$Restart) and then **run all cells** (in the menubar, select Cell$\\rightarrow$Run All).\n",
    "\n",
    "Make sure you fill in any place that says `YOUR CODE HERE` or \"YOUR ANSWER HERE\", as well as your name and collaborators below:"
   ]
  },
  {
   "cell_type": "code",
   "execution_count": 1,
   "metadata": {},
   "outputs": [],
   "source": [
    "NAME = \"Yajie Qi,427150\"\n",
    "COLLABORATORS = \"Danqi Zhao,441469\",\"Haoyu Tang,430191\""
   ]
  },
  {
   "cell_type": "markdown",
   "metadata": {},
   "source": [
    "---"
   ]
  },
  {
   "cell_type": "markdown",
   "metadata": {
    "nbgrader": {
     "grade": false,
     "grade_id": "cell-04429c6213cf7e2d",
     "locked": true,
     "schema_version": 3,
     "solution": false,
     "task": false
    }
   },
   "source": [
    "# Shape Structures\n",
    "In this notebook we will implement a region growing algorithm for shape segmentation and a function for cylinder fitting"
   ]
  },
  {
   "cell_type": "code",
   "execution_count": 2,
   "metadata": {
    "nbgrader": {
     "grade": false,
     "grade_id": "cell-c0df808dee64e4a4",
     "locked": true,
     "schema_version": 3,
     "solution": false,
     "task": false
    }
   },
   "outputs": [],
   "source": [
    "import numpy as np\n",
    "import openmesh as om\n",
    "from scipy.linalg import eigh\n",
    "from queue import Queue\n",
    "import k3d"
   ]
  },
  {
   "cell_type": "code",
   "execution_count": 3,
   "metadata": {
    "nbgrader": {
     "grade": false,
     "grade_id": "cell-7f270e90dd0cbaeb",
     "locked": true,
     "schema_version": 3,
     "solution": false,
     "task": false
    }
   },
   "outputs": [],
   "source": [
    "mesh = om.read_trimesh(\"spot/spot_triangulated.obj\")\n",
    "feature = np.load(\"features.npy\")"
   ]
  },
  {
   "cell_type": "markdown",
   "metadata": {
    "nbgrader": {
     "grade": false,
     "grade_id": "cell-e9a02d9ce89086db",
     "locked": true,
     "schema_version": 3,
     "solution": false,
     "task": false
    }
   },
   "source": [
    "## Region Growing\n",
    "\n",
    "In this task you will implement a function `region_growing(mesh, feature, seed_thres, merge_thres)`\n",
    "As inputs this function will get a mesh, a feature vector with a floating value for each face (which we already precomputed for you), as well as two thresholds to start and stop the growing.\n",
    "\n",
    "every face with a feature value above `seed_thres` is a potential seed for the growing algorithm. The corresponding region should grow as long as there is a neighbouring face with a feature value above `merge_thres`.\\\n",
    "To implement this task a simple Queue is enough, as the order in which you process the face does not matter. For this you can use the `Queue` class.\\\n",
    "The function should output a list of lists, where you save the face indices of the respective clusters."
   ]
  },
  {
   "cell_type": "code",
   "execution_count": 4,
   "metadata": {
    "nbgrader": {
     "grade": false,
     "grade_id": "cell-656bec120707c272",
     "locked": false,
     "schema_version": 3,
     "solution": true,
     "task": false
    }
   },
   "outputs": [],
   "source": [
    "def region_growing(mesh, feature, seed_thres, merge_thres):\n",
    "    ### BEGIN SOLUTION\n",
    "\n",
    "    queue = Queue()\n",
    "    clusters = []\n",
    "    clustered = []\n",
    "\n",
    "    seeds = []\n",
    "    for fh in mesh.faces():\n",
    "        if feature[fh.idx()] > seed_thres:\n",
    "            seeds.append(fh)\n",
    "\n",
    "    while seeds:\n",
    "        seed = seeds[0]\n",
    "\n",
    "        queue = Queue()\n",
    "\n",
    "        queue.put(seed)\n",
    "\n",
    "        cluster = []\n",
    "\n",
    "        while not queue.empty():\n",
    "\n",
    "            s = queue.get()\n",
    "\n",
    "            if (s.idx() not in clustered and feature[s.idx()] > merge_thres):\n",
    "                cluster.append(s.idx())\n",
    "                clustered.append(s.idx())\n",
    "\n",
    "                if s in seeds:\n",
    "                    seeds.remove(s)\n",
    "\n",
    "                for fh in mesh.ff(s):\n",
    "                    if (fh.idx() not in clustered):\n",
    "                        queue.put(fh)\n",
    "\n",
    "        clusters.append(cluster)\n",
    "\n",
    "    return clusters\n",
    "    \n",
    "\n",
    "    ### END SOLUTION\n",
    "\n",
    "def cluster_to_labels(cluster_list):\n",
    "    faces = np.empty((0,),dtype='long')\n",
    "    test_feature = np.zeros(feature.shape)\n",
    "    for i, cluster in enumerate(cluster_list):    \n",
    "        for f in cluster:\n",
    "            for v in mesh.fv(mesh.face_handle(f)):\n",
    "                test_feature[v.idx()] = i + 1\n",
    "    return test_feature"
   ]
  },
  {
   "cell_type": "code",
   "execution_count": 5,
   "metadata": {},
   "outputs": [],
   "source": [
    "cluster_list = region_growing(mesh, feature, 8.5, 7.5)"
   ]
  },
  {
   "cell_type": "code",
   "execution_count": 6,
   "metadata": {
    "nbgrader": {
     "grade": false,
     "grade_id": "cell-ee9524dc11fbbf5d",
     "locked": true,
     "schema_version": 3,
     "solution": false,
     "task": false
    }
   },
   "outputs": [
    {
     "name": "stderr",
     "output_type": "stream",
     "text": [
      "E:\\Conda\\envs\\shapeanalysis\\lib\\site-packages\\traittypes\\traittypes.py:97: UserWarning: Given trait value dtype \"float64\" does not match required type \"float32\". A coerced copy has been created.\n",
      "  warnings.warn(\n",
      "E:\\Conda\\envs\\shapeanalysis\\lib\\site-packages\\traittypes\\traittypes.py:97: UserWarning: Given trait value dtype \"int32\" does not match required type \"uint32\". A coerced copy has been created.\n",
      "  warnings.warn(\n"
     ]
    },
    {
     "data": {
      "application/vnd.jupyter.widget-view+json": {
       "model_id": "2e13f37211d146cfa7b37e8ddb009fa6",
       "version_major": 2,
       "version_minor": 0
      },
      "text/plain": [
       "Plot(antialias=3, axes=['x', 'y', 'z'], axes_helper=1.0, axes_helper_colors=[16711680, 65280, 255], background…"
      ]
     },
     "execution_count": 6,
     "metadata": {},
     "output_type": "execute_result"
    }
   ],
   "source": [
    "vis = cluster_to_labels(cluster_list)\n",
    "plot = k3d.plot()\n",
    "plot += k3d.mesh(mesh.points(), mesh.fv_indices(), attribute=vis, \n",
    "                 color_map=k3d.colormaps.matplotlib_color_maps.viridis)\n",
    "plot"
   ]
  },
  {
   "cell_type": "code",
   "execution_count": 7,
   "metadata": {
    "nbgrader": {
     "grade": true,
     "grade_id": "cell-2ffdfee441d7e583",
     "locked": true,
     "points": 2,
     "schema_version": 3,
     "solution": false,
     "task": false
    }
   },
   "outputs": [],
   "source": [
    "mesh = om.read_trimesh(\"spot/spot_triangulated.obj\")\n",
    "feature = np.load(\"features.npy\")\n",
    "cluster_list = region_growing(mesh, feature, 8.5, 7.5)\n",
    "assert(len(cluster_list) == 9)\n",
    "assert(sum(len(cluster_list[i]) for i in range(9)) == 1118)\n"
   ]
  },
  {
   "cell_type": "markdown",
   "metadata": {
    "nbgrader": {
     "grade": false,
     "grade_id": "cell-b51231d2fe4bbde3",
     "locked": true,
     "schema_version": 3,
     "solution": false,
     "task": false
    }
   },
   "source": [
    "# Cylinder estimation\n",
    "\n",
    "In the next task you will estimate the parameters of a given cylinder. This consists of two separate tasks:\n",
    "- You need to build the discrete shape operator in the function `shape_operator(mesh)`\n",
    "- You solve the circle (2D sphere) fitting problem in the function `circle_estimation(points)`\n",
    "\n",
    "We provide several helper functions for you to solve these problems.\\\n",
    "To help you with constructing the shape operator you can compute the dihedral angle with `mesh.calc_dihedral_angle(eh)`. You should however skip boundary edges, as for these the dihedral angle is not defined. You can check for boundary edges with `mesh.is_boundary(eh)`.\n",
    "\n",
    "To fit a circle you need to solve a linear least squares system, for which you can use the function `np.linalg.lstsq(A,b)`.\n",
    "\n",
    "You only need to deal with these two functions as we provide a function `cylinder_estimation(mesh)`, that calls them with the appropriate arguments. This function will compute the eigenvectors of the shape operator, transform the cylinder accordingly and call `circle_estimation(points)` with the transformed points."
   ]
  },
  {
   "cell_type": "code",
   "execution_count": 8,
   "metadata": {
    "nbgrader": {
     "grade": false,
     "grade_id": "cell-e0f773115ecc74e8",
     "locked": false,
     "schema_version": 3,
     "solution": true,
     "task": false
    }
   },
   "outputs": [],
   "source": [
    "def rotation_matrix_from_vectors(vec1, vec2):\n",
    "    a, b = (vec1 / np.linalg.norm(vec1)).reshape(3), (vec2 / np.linalg.norm(vec2)).reshape(3)\n",
    "    v = np.cross(a, b)\n",
    "    c = np.dot(a, b)\n",
    "    s = np.linalg.norm(v)\n",
    "    kmat = np.array([[0, -v[2], v[1]], [v[2], 0, -v[0]], [-v[1], v[0], 0]])\n",
    "    rotation_matrix = np.eye(3) + kmat + kmat.dot(kmat) * ((1 - c) / (s ** 2))\n",
    "    return rotation_matrix\n",
    "\n",
    "def transform_mesh(mesh, radius, direction, center):\n",
    "    direction = direction / np.linalg.norm(direction)\n",
    "    center = center - np.dot(center,direction) * direction\n",
    "    default_radius = np.linalg.norm(mesh.points()[:,:2],axis=1).mean()\n",
    "    rot = rotation_matrix_from_vectors(np.array([0,0,1]), direction)\n",
    "    mesh.points()[:] = mesh.points() @ rot.transpose(1,0)\n",
    "    mesh.points()[:] *= radius / default_radius\n",
    "    mesh.points()[:] += center\n",
    "    return direction, center, radius\n",
    "    \n",
    "def shape_operator(mesh):\n",
    "    ### BEGIN SOLUTION\n",
    "\n",
    "    coords = mesh.points()\n",
    "\n",
    "    cov_mat = np.zeros((3,3))\n",
    "    for eh in mesh.edges():\n",
    "\n",
    "        if (not mesh.is_boundary(eh)):\n",
    "        \n",
    "            v1 = mesh.to_vertex_handle(mesh.halfedge_handle(eh, 0)).idx()\n",
    "            v2 = mesh.to_vertex_handle(mesh.halfedge_handle(eh, 1)).idx()\n",
    "                    \n",
    "            v = np.matrix(coords[v1] - coords[v2])\n",
    "            edge_norm = np.linalg.norm(v)\n",
    "            \n",
    "            dihedral_angle = mesh.calc_dihedral_angle(eh)\n",
    "            unit_v = v / edge_norm\n",
    "\n",
    "            cov_mat += edge_norm * dihedral_angle * np.dot(unit_v.T, unit_v)\n",
    "        \n",
    "    return cov_mat\n",
    "\n",
    "    ### END SOLUTION\n",
    "        \n",
    "def circle_estimation(points):\n",
    "    ### BEGIN SOLUTION\n",
    "\n",
    "    n = len(points)\n",
    "    A = np.zeros((n, 3))\n",
    "    b = np.zeros((n, 1))\n",
    "    \n",
    "    for i, p in enumerate(points):\n",
    "        px = p[0]\n",
    "        py = p[1]\n",
    "        A[i] = [2.0 * px, 2.0 * py, 1.0]\n",
    "        b[i] = px * px + py * py\n",
    "        \n",
    "    w = np.linalg.lstsq(A, b, rcond=-1)[0]\n",
    "    \n",
    "    c_x = w[0][0]\n",
    "    c_y = w[1][0]\n",
    "    r = np.sqrt(w[2][0] + c_x * c_x + c_y * c_y)\n",
    "    \n",
    "    return c_x, c_y, r\n",
    "\n",
    "\n",
    "    ### END SOLUTION\n",
    "\n",
    "def cylinder_estimation(mesh):\n",
    "    so = shape_operator(mesh)\n",
    "    (eigvalues, eigvectors) = eigh(so)\n",
    "    rot = rotation_matrix_from_vectors(eigvectors[:,2], np.array([0,0,1]))\n",
    "    points = mesh.points() @ rot.transpose(1,0)\n",
    "    c_x, c_y, r = circle_estimation(points)\n",
    "    c = np.array([c_x,c_y,0]) @ rot\n",
    "    return eigvectors[:,2], c, r"
   ]
  },
  {
   "cell_type": "code",
   "execution_count": 9,
   "metadata": {},
   "outputs": [
    {
     "name": "stdout",
     "output_type": "stream",
     "text": [
      "(array([0.57735027, 0.57735027, 0.57735027]), array([-1.33333333,  0.66666667,  0.66666667]), 2.0)\n",
      "(array([-0.57735006, -0.57735045, -0.5773503 ]), array([-1.33333294,  0.66666581,  0.66666639]), 2.0000032778349213)\n"
     ]
    }
   ],
   "source": [
    "mesh = om.read_trimesh(\"cylinder.off\")\n",
    "predictions = transform_mesh(mesh, 2.0, np.array([1,1,1]), np.array([-1,1,1]))\n",
    "estimate = cylinder_estimation(mesh)\n",
    "print(predictions)\n",
    "print(estimate)"
   ]
  },
  {
   "cell_type": "code",
   "execution_count": 10,
   "metadata": {
    "nbgrader": {
     "grade": false,
     "grade_id": "cell-211a4b1f04459d77",
     "locked": true,
     "schema_version": 3,
     "solution": false,
     "task": false
    }
   },
   "outputs": [
    {
     "data": {
      "application/vnd.jupyter.widget-view+json": {
       "model_id": "a55347d8e0e34639840223aacd479aec",
       "version_major": 2,
       "version_minor": 0
      },
      "text/plain": [
       "Plot(antialias=3, axes=['x', 'y', 'z'], axes_helper=1.0, axes_helper_colors=[16711680, 65280, 255], background…"
      ]
     },
     "execution_count": 10,
     "metadata": {},
     "output_type": "execute_result"
    }
   ],
   "source": [
    "plot = k3d.plot()\n",
    "plot += k3d.mesh(mesh.points(), mesh.fv_indices())\n",
    "plot"
   ]
  },
  {
   "cell_type": "code",
   "execution_count": 11,
   "metadata": {
    "nbgrader": {
     "grade": true,
     "grade_id": "cell-ca456eeca5f13287",
     "locked": true,
     "points": 1,
     "schema_version": 3,
     "solution": false,
     "task": false
    }
   },
   "outputs": [],
   "source": [
    "mesh = om.read_trimesh(\"cylinder.off\")\n",
    "predictions = transform_mesh(mesh, 0.5, np.array([1,0,1]), np.array([0,1,0]))\n",
    "estimate = cylinder_estimation(mesh)\n",
    "assert(min(np.abs(predictions[0] - estimate[0]).mean(),np.abs(predictions[0] + estimate[0]).mean()) < 1e-5)"
   ]
  },
  {
   "cell_type": "code",
   "execution_count": 12,
   "metadata": {
    "nbgrader": {
     "grade": true,
     "grade_id": "cell-521259c930632f46",
     "locked": true,
     "points": 1,
     "schema_version": 3,
     "solution": false,
     "task": false
    }
   },
   "outputs": [],
   "source": [
    "mesh = om.read_trimesh(\"cylinder.off\")\n",
    "predictions = transform_mesh(mesh, 3.0, np.array([0,1,1]), np.array([1,1,1]))\n",
    "estimate = cylinder_estimation(mesh)\n",
    "assert(np.abs(predictions[1] - estimate[1]).mean() < 1e-5)\n",
    "assert(np.abs(predictions[2] - estimate[2]) < 1e-5)"
   ]
  },
  {
   "cell_type": "code",
   "execution_count": null,
   "metadata": {},
   "outputs": [],
   "source": []
  }
 ],
 "metadata": {
  "celltoolbar": "Create Assignment",
  "kernelspec": {
   "display_name": "Python 3 (ipykernel)",
   "language": "python",
   "name": "python3"
  },
  "language_info": {
   "codemirror_mode": {
    "name": "ipython",
    "version": 3
   },
   "file_extension": ".py",
   "mimetype": "text/x-python",
   "name": "python",
   "nbconvert_exporter": "python",
   "pygments_lexer": "ipython3",
   "version": "3.8.16"
  }
 },
 "nbformat": 4,
 "nbformat_minor": 4
}
